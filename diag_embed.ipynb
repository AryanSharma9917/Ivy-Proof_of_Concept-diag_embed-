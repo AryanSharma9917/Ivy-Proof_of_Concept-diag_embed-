{
  "nbformat": 4,
  "nbformat_minor": 0,
  "metadata": {
    "colab": {
      "provenance": []
    },
    "kernelspec": {
      "name": "python3",
      "display_name": "Python 3"
    },
    "language_info": {
      "name": "python"
    }
  },
  "cells": [
    {
      "cell_type": "code",
      "execution_count": null,
      "metadata": {
        "id": "hDgRJSQXO-jf"
      },
      "outputs": [],
      "source": [
        "# ivy\\ivy\\functional\\frontends\\torch\\linalg.py\n",
        "\n",
        "import ivy\n",
        "from ivy.func_wrapper import to_ivy_arrays_and_back\n",
        "from ivy.operations.math import diagonal, expand_dims\n",
        "\n",
        "@to_ivy_arrays_and_back\n",
        "def diag_embed(input, offset=0, dim1=-2, dim2=-1):\n",
        "    return ivy.expand_dims(diagonal(input, offset=offset, dim1=dim1, dim2=dim2), axis=-1)\n"
      ]
    },
    {
      "cell_type": "markdown",
      "source": [
        "This implementation uses the diagonal function from the provided code, which returns a 1D tensor containing the diagonal of the input tensor. Then, expand_dims function is used to add an extra dimension at the end of the tensor, effectively creating a diagonal matrix with the same size as the original tensor.\n",
        "\n",
        "Note that expand_dims function adds a new axis at the specified position, which is -1 in this case (i.e., the last axis). This assumes that the input tensor is 2D or higher, and the diagonal matrix will have an extra dimension at the end. If the input tensor is 1D, you may need to use reshape instead to create a 2D tensor before using expand_dims."
      ],
      "metadata": {
        "id": "RECeE569TnGi"
      }
    },
    {
      "cell_type": "code",
      "source": [
        "#ivy\\ivy_tests\\test_ivy\\test_frontends\\test_torch\\test_linalg.py\n",
        "\n",
        "import torch\n",
        "import ivy\n",
        "from torch.testing._internal.common_utils import handle_frontend_test\n",
        "from torch.testing._internal.common_device_type import (\n",
        "    dtype_value1_value2_axis, ints, get_dtypes\n",
        ")\n",
        "from ivy.numpy import diagonal, expand_dims\n",
        "from helpers import test_frontend_function\n",
        "\n",
        "# diag_embed\n",
        "@handle_frontend_test(\n",
        "    fn_tree=\"torch.diag_embed\",\n",
        "    dtype_value1_value2_axis=dtype_value1_value2_axis(\n",
        "        available_dtypes=helpers.get_dtypes(\"float\"),\n",
        "        min_value=-10,\n",
        "        max_value=10,\n",
        "        dim_range=(2, 5),\n",
        "        dim_size=helpers.ints(min_value=2, max_value=5),\n",
        "    ),\n",
        "    offset=helpers.ints(min_value=-5, max_value=5),\n",
        "    dim1=helpers.ints(min_value=-2, max_value=-1),\n",
        "    dim2=helpers.ints(min_value=-2, max_value=-1),\n",
        "    dtype=helpers.get_dtypes(\"valid\"),\n",
        ")\n",
        "def test_torch_diag_embed(\n",
        "    *,\n",
        "    dtype_value1_value2_axis,\n",
        "    offset,\n",
        "    dim1,\n",
        "    dim2,\n",
        "    dtype,\n",
        "    on_device,\n",
        "    fn_tree,\n",
        "    frontend,\n",
        "    test_flags,\n",
        "):\n",
        "    dtype, x, _, axis = dtype_value1_value2_axis\n",
        "    y = np.diag(np.diagonal(x, offset=offset, axis1=dim1, axis2=dim2))\n",
        "    helpers.test_frontend_function(\n",
        "        input_dtypes=dtype,\n",
        "        frontend=frontend,\n",
        "        test_flags=test_flags,\n",
        "        fn_tree=fn_tree,\n",
        "        on_device=on_device,\n",
        "        input=x[0],\n",
        "        offset=offset,\n",
        "        dim1=dim1,\n",
        "        dim2=dim2,\n",
        "        dtype=dtype[0],\n",
        "        expected_outputs=y,\n",
        "    )\n"
      ],
      "metadata": {
        "id": "eRkf9a31Q8Qu"
      },
      "execution_count": null,
      "outputs": []
    },
    {
      "cell_type": "markdown",
      "source": [
        "This test uses the handle_frontend_test decorator to define the test case. The fn_tree parameter specifies the Ivy function to test, which is torch.diag_embed in this case. The dtype_value1_value2_axis parameter is a strategy that generates test inputs for the function, which includes a 2D or higher tensor with arbitrary dimensions, an offset value, and two dimension indices for the diagonal extraction.\n",
        "\n",
        "The test function then extracts the diagonal of the input tensor using np.diagonal with the specified parameters, and creates the expected output by using np.diag to create a diagonal matrix with the same values. Finally, the helpers.test_frontend_function function is called to test the function using the generated inputs and the expected output."
      ],
      "metadata": {
        "id": "w6zxb_M6TqTt"
      }
    }
  ]
}